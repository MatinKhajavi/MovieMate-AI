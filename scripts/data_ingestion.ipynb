{
 "cells": [
  {
   "cell_type": "code",
   "execution_count": 1,
   "metadata": {},
   "outputs": [],
   "source": [
    "from src.data_loader import DataLoader\n",
    "from llama_index.core.schema import MetadataMode\n"
   ]
  },
  {
   "cell_type": "code",
   "execution_count": 2,
   "metadata": {},
   "outputs": [],
   "source": [
    "dl = DataLoader(\"../data/data.csv\", \"plot_summary\", ['title', 'runtime', 'original_language'])"
   ]
  },
  {
   "cell_type": "code",
   "execution_count": 3,
   "metadata": {},
   "outputs": [],
   "source": [
    "nodes = dl.ingest_data()"
   ]
  },
  {
   "cell_type": "code",
   "execution_count": 4,
   "metadata": {},
   "outputs": [
    {
     "data": {
      "text/plain": [
       "[TextNode(id_='feb281ad-e784-4e72-83c4-36a98681148b', embedding=None, metadata={'title': 'Inception', 'runtime': 148, 'original_language': 'English'}, excluded_embed_metadata_keys=[], excluded_llm_metadata_keys=[], relationships={<NodeRelationship.SOURCE: '1'>: RelatedNodeInfo(node_id='7d532895-9e18-4c38-acb0-0f268c11699c', node_type=<ObjectType.DOCUMENT: '4'>, metadata={'title': 'Inception', 'runtime': 148, 'original_language': 'English'}, hash='6222b0a256806fdcc0d862c4747604e3169613a257a0672310c76e57de4a0cc0')}, text=\"Dom Cobb is a skilled thief, the absolute best in the dangerous art of extraction, stealing valuable secrets from deep within the subconscious during the dream state, when the mind is at its most vulnerable. Cobb's rare ability has made him a coveted player in this treacherous new world of corporate espionage, but it has also made him an international fugitive and cost him everything he has ever loved. Now Cobb is being offered a chance at redemption. One last job could give him his life back but only if he can accomplish the impossible, inception. Instead of the perfect heist, Cobb and his team of specialists have to pull off the reverse: their task is not to steal an idea, but to plant one. If they succeed, it could be the perfect crime. But no amount of careful planning or expertise can prepare the team for the dangerous enemy that seems to predict their every move. An enemy that only Cobb could have seen coming.\", mimetype='text/plain', start_char_idx=0, end_char_idx=929, text_template='{metadata_str}\\n\\n{content}', metadata_template='{key}: {value}', metadata_seperator='\\n'),\n",
       " TextNode(id_='64d2dd3d-84a6-43a8-8596-79eadebada34', embedding=None, metadata={'title': 'Interstellar', 'runtime': 169, 'original_language': 'English'}, excluded_embed_metadata_keys=[], excluded_llm_metadata_keys=[], relationships={<NodeRelationship.SOURCE: '1'>: RelatedNodeInfo(node_id='e30452ce-234f-4539-ae6a-f8716eaba89b', node_type=<ObjectType.DOCUMENT: '4'>, metadata={'title': 'Interstellar', 'runtime': 169, 'original_language': 'English'}, hash='03922c28635cd1dcf022b13cfaac4c90cb43ecd56560bafbf12b679f9800bbb9')}, text=\"Earth's future has been riddled by disasters, famines, and droughts. There is only one way to ensure mankind's survival: Interstellar travel. A newly discovered wormhole in the far reaches of our solar system allows a team of astronauts to go where no man has gone before, a planet that may have the right environment to sustain human life.\", mimetype='text/plain', start_char_idx=0, end_char_idx=340, text_template='{metadata_str}\\n\\n{content}', metadata_template='{key}: {value}', metadata_seperator='\\n'),\n",
       " TextNode(id_='64e6d64b-f3ac-467f-a171-ee8bc3deeeb0', embedding=None, metadata={'title': 'The Dark Knight', 'runtime': 152, 'original_language': 'English'}, excluded_embed_metadata_keys=[], excluded_llm_metadata_keys=[], relationships={<NodeRelationship.SOURCE: '1'>: RelatedNodeInfo(node_id='476d8c5b-6d63-4b5b-8fe4-c0860f46714c', node_type=<ObjectType.DOCUMENT: '4'>, metadata={'title': 'The Dark Knight', 'runtime': 152, 'original_language': 'English'}, hash='a965a7b407ca368860e826b9fda00c022b4a1b92714ec94ebe5d52cb780b90ff')}, text='Set within a year after the events of Batman Begins (2005), Batman, Lieutenant James Gordon, and new District Attorney Harvey Dent successfully begin to round up the criminals that plague Gotham City, until a mysterious and sadistic criminal mastermind known only as \"The Joker\" appears in Gotham, creating a new wave of chaos. Batman\\'s struggle against The Joker becomes deeply personal, forcing him to \"confront everything he believes\" and improve his technology to stop him. A love triangle develops between Bruce Wayne, Dent, and Rachel Dawes.', mimetype='text/plain', start_char_idx=0, end_char_idx=547, text_template='{metadata_str}\\n\\n{content}', metadata_template='{key}: {value}', metadata_seperator='\\n'),\n",
       " TextNode(id_='e94f8e60-8abe-4526-a1f9-b079a7709691', embedding=None, metadata={'title': 'Avatar', 'runtime': 162, 'original_language': 'English'}, excluded_embed_metadata_keys=[], excluded_llm_metadata_keys=[], relationships={<NodeRelationship.SOURCE: '1'>: RelatedNodeInfo(node_id='8350bc68-37bf-4f66-9c44-031ec8d61612', node_type=<ObjectType.DOCUMENT: '4'>, metadata={'title': 'Avatar', 'runtime': 162, 'original_language': 'English'}, hash='61a8bcd1ef6b870ccb9145fbc53ffcf1886630180760ac5bbaae968d6e44dcd5')}, text='When his brother is killed in a robbery, paraplegic Marine Jake Sully decides to take his place in a mission on the distant world of Pandora. There he learns of greedy corporate figurehead Parker Selfridge\\'s intentions of driving off the native humanoid \"Na\\'vi\" in order to mine for the precious material scattered throughout their rich woodland. In exchange for the spinal surgery that will fix his legs, Jake gathers knowledge, of the Indigenous Race and their Culture, for the cooperating military unit spearheaded by gung-ho Colonel Quaritch, while simultaneously attempting to infiltrate the Na\\'vi people with the use of an \"avatar\" identity. While Jake begins to bond with the native tribe and quickly falls in love with the beautiful alien Neytiri, the restless Colonel moves forward with his ruthless extermination tactics, forcing the soldier to take a stand - and fight back in an epic battle for the fate of Pandora.', mimetype='text/plain', start_char_idx=0, end_char_idx=927, text_template='{metadata_str}\\n\\n{content}', metadata_template='{key}: {value}', metadata_seperator='\\n'),\n",
       " TextNode(id_='937ffcd0-922b-49a5-8fc0-a6f7c89b569f', embedding=None, metadata={'title': 'The Avengers', 'runtime': 143, 'original_language': 'English'}, excluded_embed_metadata_keys=[], excluded_llm_metadata_keys=[], relationships={<NodeRelationship.SOURCE: '1'>: RelatedNodeInfo(node_id='0171672d-5949-436d-a098-8a39cdc78159', node_type=<ObjectType.DOCUMENT: '4'>, metadata={'title': 'The Avengers', 'runtime': 143, 'original_language': 'English'}, hash='31a587968dae8812454f4599f2b8d6a9b895f6c07df6e8cba9bc6910bd644076')}, text=\"Loki, the adopted brother of Thor, teams-up with the Chitauri Army and uses the Tesseract's power to travel from Asgard to Midgard to plot the invasion of Earth and become a king. The director of the agency S.H.I.E.L.D., Nick Fury, sets in motion project Avengers, joining Tony Stark a.k.a. the Iron Man; Steve Rogers, a.k.a. Captain America; Bruce Banner, a.k.a. The Hulk; Thor; Natasha Romanoff, a.k.a. Black Widow; and Clint Barton, a.k.a. Hawkeye, to save the world from the powerful Loki and the alien invasion.\", mimetype='text/plain', start_char_idx=0, end_char_idx=516, text_template='{metadata_str}\\n\\n{content}', metadata_template='{key}: {value}', metadata_seperator='\\n')]"
      ]
     },
     "execution_count": 4,
     "metadata": {},
     "output_type": "execute_result"
    }
   ],
   "source": [
    "nodes[:5]"
   ]
  },
  {
   "cell_type": "code",
   "execution_count": 5,
   "metadata": {},
   "outputs": [
    {
     "data": {
      "text/plain": [
       "{'title': 'Inception', 'runtime': 148, 'original_language': 'English'}"
      ]
     },
     "execution_count": 5,
     "metadata": {},
     "output_type": "execute_result"
    }
   ],
   "source": [
    "nodes[0].metadata"
   ]
  },
  {
   "cell_type": "code",
   "execution_count": 6,
   "metadata": {},
   "outputs": [
    {
     "name": "stdout",
     "output_type": "stream",
     "text": [
      "The LLM sees this: \n",
      " title: Inception\n",
      "runtime: 148\n",
      "original_language: English\n",
      "\n",
      "Dom Cobb is a skilled thief, the absolute best in the dangerous art of extraction, stealing valuable secrets from deep within the subconscious during the dream state, when the mind is at its most vulnerable. Cobb's rare ability has made him a coveted player in this treacherous new world of corporate espionage, but it has also made him an international fugitive and cost him everything he has ever loved. Now Cobb is being offered a chance at redemption. One last job could give him his life back but only if he can accomplish the impossible, inception. Instead of the perfect heist, Cobb and his team of specialists have to pull off the reverse: their task is not to steal an idea, but to plant one. If they succeed, it could be the perfect crime. But no amount of careful planning or expertise can prepare the team for the dangerous enemy that seems to predict their every move. An enemy that only Cobb could have seen coming.\n",
      "\n",
      "\n",
      "\n",
      "The Embedding model sees this: \n",
      " title: Inception\n",
      "runtime: 148\n",
      "original_language: English\n",
      "\n",
      "Dom Cobb is a skilled thief, the absolute best in the dangerous art of extraction, stealing valuable secrets from deep within the subconscious during the dream state, when the mind is at its most vulnerable. Cobb's rare ability has made him a coveted player in this treacherous new world of corporate espionage, but it has also made him an international fugitive and cost him everything he has ever loved. Now Cobb is being offered a chance at redemption. One last job could give him his life back but only if he can accomplish the impossible, inception. Instead of the perfect heist, Cobb and his team of specialists have to pull off the reverse: their task is not to steal an idea, but to plant one. If they succeed, it could be the perfect crime. But no amount of careful planning or expertise can prepare the team for the dangerous enemy that seems to predict their every move. An enemy that only Cobb could have seen coming.\n"
     ]
    }
   ],
   "source": [
    "print(\n",
    "    \"The LLM sees this: \\n\",\n",
    "    nodes[0].get_content(metadata_mode=MetadataMode.LLM),\n",
    ")\n",
    "print()\n",
    "print()\n",
    "print()\n",
    "\n",
    "print(\n",
    "    \"The Embedding model sees this: \\n\",\n",
    "    nodes[0].get_content(metadata_mode=MetadataMode.EMBED),\n",
    ")"
   ]
  },
  {
   "cell_type": "code",
   "execution_count": null,
   "metadata": {},
   "outputs": [],
   "source": []
  }
 ],
 "metadata": {
  "kernelspec": {
   "display_name": "mlenv",
   "language": "python",
   "name": "python3"
  },
  "language_info": {
   "codemirror_mode": {
    "name": "ipython",
    "version": 3
   },
   "file_extension": ".py",
   "mimetype": "text/x-python",
   "name": "python",
   "nbconvert_exporter": "python",
   "pygments_lexer": "ipython3",
   "version": "3.12.2"
  }
 },
 "nbformat": 4,
 "nbformat_minor": 2
}
