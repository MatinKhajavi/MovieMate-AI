{
 "cells": [
  {
   "cell_type": "code",
   "execution_count": 1,
   "metadata": {},
   "outputs": [],
   "source": [
    "from src.data_loader import DataLoader\n",
    "from llama_index.core.schema import MetadataMode\n"
   ]
  },
  {
   "cell_type": "code",
   "execution_count": 2,
   "metadata": {},
   "outputs": [],
   "source": [
    "dl = DataLoader(\"../data/data.csv\", \"plot_summary\", ['title', 'release_date', 'runtime', 'original_language', 'averageRating',\n",
    "                                                      'cast', 'genres', 'spoken_languages', 'production_companies', 'directors'])"
   ]
  },
  {
   "cell_type": "code",
   "execution_count": 3,
   "metadata": {},
   "outputs": [],
   "source": [
    "nodes = dl.ingest_data()"
   ]
  },
  {
   "cell_type": "code",
   "execution_count": 4,
   "metadata": {},
   "outputs": [
    {
     "data": {
      "text/plain": [
       "[TextNode(id_='10b61d28-8e84-4cf2-80d2-8b7bae481f01', embedding=None, metadata={'title': 'Inception', 'release_date': datetime.date(2010, 7, 15), 'runtime': 148, 'original_language': 'English', 'averageRating': 8.8, 'cast': ['Leonardo DiCaprio', ' Joseph Gordon-Levitt', ' Elliot Page', ' Tom Hardy', ' Ken Watanabe', ' Dileep Rao', ' Cillian Murphy', ' Tom Berenger', ' Marion Cotillard', ' Pete Postlethwaite', ' Michael Caine', ' Lukas Haas', ' Tai-Li Lee', ' Claire Geare', ' Magnus Nolan'], 'genres': ['Action', ' Adventure', ' Sci-Fi', ' Thriller'], 'spoken_languages': ['English', ' French', ' Japanese', ' Swahili'], 'production_companies': ['Legendary Pictures', ' Syncopy', ' Warner Bros. Pictures'], 'directors': ['Christopher Nolan']}, excluded_embed_metadata_keys=[], excluded_llm_metadata_keys=[], relationships={<NodeRelationship.SOURCE: '1'>: RelatedNodeInfo(node_id='51b503b5-5792-4e61-8bba-22c2904a6bc9', node_type=<ObjectType.DOCUMENT: '4'>, metadata={'title': 'Inception', 'release_date': datetime.date(2010, 7, 15), 'runtime': 148, 'original_language': 'English', 'averageRating': 8.8, 'cast': ['Leonardo DiCaprio', ' Joseph Gordon-Levitt', ' Elliot Page', ' Tom Hardy', ' Ken Watanabe', ' Dileep Rao', ' Cillian Murphy', ' Tom Berenger', ' Marion Cotillard', ' Pete Postlethwaite', ' Michael Caine', ' Lukas Haas', ' Tai-Li Lee', ' Claire Geare', ' Magnus Nolan'], 'genres': ['Action', ' Adventure', ' Sci-Fi', ' Thriller'], 'spoken_languages': ['English', ' French', ' Japanese', ' Swahili'], 'production_companies': ['Legendary Pictures', ' Syncopy', ' Warner Bros. Pictures'], 'directors': ['Christopher Nolan']}, hash='34fc8d9cb70b1cf7e1cd2e061cc220549341b685dff61d0428373a614dbb307b')}, text=\"Dom Cobb is a skilled thief, the absolute best in the dangerous art of extraction, stealing valuable secrets from deep within the subconscious during the dream state, when the mind is at its most vulnerable. Cobb's rare ability has made him a coveted player in this treacherous new world of corporate espionage, but it has also made him an international fugitive and cost him everything he has ever loved. Now Cobb is being offered a chance at redemption. One last job could give him his life back but only if he can accomplish the impossible, inception. Instead of the perfect heist, Cobb and his team of specialists have to pull off the reverse: their task is not to steal an idea, but to plant one. If they succeed, it could be the perfect crime. But no amount of careful planning or expertise can prepare the team for the dangerous enemy that seems to predict their every move. An enemy that only Cobb could have seen coming.\", mimetype='text/plain', start_char_idx=0, end_char_idx=929, text_template='Movie Metadata:\\n {metadata_str}\\n Plot Summary:\\n {content}', metadata_template='{key}: {value}', metadata_seperator=', '),\n",
       " TextNode(id_='7f8b6d12-15a5-4b3a-ae29-07ff04bd3181', embedding=None, metadata={'title': 'Interstellar', 'release_date': datetime.date(2014, 11, 5), 'runtime': 169, 'original_language': 'English', 'averageRating': 8.7, 'cast': ['Ellen Burstyn', ' Matthew McConaughey', ' Mackenzie Foy', ' John Lithgow', ' Timothée Chalamet', ' David Oyelowo', ' Collette Wolfe', ' Francis X. McCarthy', ' Bill Irwin', ' Anne Hathaway', ' Andrew Borba', ' Wes Bentley', ' William Devane', ' Michael Caine', ' David Gyasi'], 'genres': ['Adventure', ' Drama', ' Sci-Fi'], 'spoken_languages': ['English'], 'production_companies': ['Legendary Pictures', ' Syncopy', ' Lynda Obst Productions'], 'directors': ['Christopher Nolan']}, excluded_embed_metadata_keys=[], excluded_llm_metadata_keys=[], relationships={<NodeRelationship.SOURCE: '1'>: RelatedNodeInfo(node_id='ca98a242-0915-4641-bd6f-1bd7fb8ff3fb', node_type=<ObjectType.DOCUMENT: '4'>, metadata={'title': 'Interstellar', 'release_date': datetime.date(2014, 11, 5), 'runtime': 169, 'original_language': 'English', 'averageRating': 8.7, 'cast': ['Ellen Burstyn', ' Matthew McConaughey', ' Mackenzie Foy', ' John Lithgow', ' Timothée Chalamet', ' David Oyelowo', ' Collette Wolfe', ' Francis X. McCarthy', ' Bill Irwin', ' Anne Hathaway', ' Andrew Borba', ' Wes Bentley', ' William Devane', ' Michael Caine', ' David Gyasi'], 'genres': ['Adventure', ' Drama', ' Sci-Fi'], 'spoken_languages': ['English'], 'production_companies': ['Legendary Pictures', ' Syncopy', ' Lynda Obst Productions'], 'directors': ['Christopher Nolan']}, hash='c852a34e7db8ff5ca70d168c27d171f2a7ce7b49bb3e5116ade43e968d781315')}, text=\"Earth's future has been riddled by disasters, famines, and droughts. There is only one way to ensure mankind's survival: Interstellar travel. A newly discovered wormhole in the far reaches of our solar system allows a team of astronauts to go where no man has gone before, a planet that may have the right environment to sustain human life.\", mimetype='text/plain', start_char_idx=0, end_char_idx=340, text_template='Movie Metadata:\\n {metadata_str}\\n Plot Summary:\\n {content}', metadata_template='{key}: {value}', metadata_seperator=', '),\n",
       " TextNode(id_='1ce03af8-622a-4a3d-9b54-d4c70d1f5538', embedding=None, metadata={'title': 'The Dark Knight', 'release_date': datetime.date(2008, 7, 16), 'runtime': 152, 'original_language': 'English', 'averageRating': 9.0, 'cast': ['Christian Bale', ' Heath Ledger', ' Aaron Eckhart', ' Michael Caine', ' Maggie Gyllenhaal', ' Gary Oldman', ' Morgan Freeman', ' Monique Gabriela Curnen', ' Ron Dean', ' Cillian Murphy', ' Chin Han', ' Nestor Carbonell', ' Eric Roberts', ' Ritchie Coster', ' Anthony Michael Hall'], 'genres': ['Action', ' Crime', ' Drama', ' Thriller'], 'spoken_languages': ['English', ' Mandarin'], 'production_companies': ['DC Comics', ' Legendary Pictures', ' Syncopy', ' Isobel Griffiths', ' Warner Bros. Pictures'], 'directors': ['Christopher Nolan']}, excluded_embed_metadata_keys=[], excluded_llm_metadata_keys=[], relationships={<NodeRelationship.SOURCE: '1'>: RelatedNodeInfo(node_id='ea1274ee-3f46-40a6-9c3f-414cdef8d69f', node_type=<ObjectType.DOCUMENT: '4'>, metadata={'title': 'The Dark Knight', 'release_date': datetime.date(2008, 7, 16), 'runtime': 152, 'original_language': 'English', 'averageRating': 9.0, 'cast': ['Christian Bale', ' Heath Ledger', ' Aaron Eckhart', ' Michael Caine', ' Maggie Gyllenhaal', ' Gary Oldman', ' Morgan Freeman', ' Monique Gabriela Curnen', ' Ron Dean', ' Cillian Murphy', ' Chin Han', ' Nestor Carbonell', ' Eric Roberts', ' Ritchie Coster', ' Anthony Michael Hall'], 'genres': ['Action', ' Crime', ' Drama', ' Thriller'], 'spoken_languages': ['English', ' Mandarin'], 'production_companies': ['DC Comics', ' Legendary Pictures', ' Syncopy', ' Isobel Griffiths', ' Warner Bros. Pictures'], 'directors': ['Christopher Nolan']}, hash='9cfb96c5248bc85155b64f9207fe6e3c05047737675a8791611567cfcab64ffa')}, text='Set within a year after the events of Batman Begins (2005), Batman, Lieutenant James Gordon, and new District Attorney Harvey Dent successfully begin to round up the criminals that plague Gotham City, until a mysterious and sadistic criminal mastermind known only as \"The Joker\" appears in Gotham, creating a new wave of chaos. Batman\\'s struggle against The Joker becomes deeply personal, forcing him to \"confront everything he believes\" and improve his technology to stop him. A love triangle develops between Bruce Wayne, Dent, and Rachel Dawes.', mimetype='text/plain', start_char_idx=0, end_char_idx=547, text_template='Movie Metadata:\\n {metadata_str}\\n Plot Summary:\\n {content}', metadata_template='{key}: {value}', metadata_seperator=', '),\n",
       " TextNode(id_='582810b8-5812-41cf-acda-b4e9e96fd2eb', embedding=None, metadata={'title': 'Avatar', 'release_date': datetime.date(2009, 12, 15), 'runtime': 162, 'original_language': 'English', 'averageRating': 7.9, 'cast': ['Sam Worthington', ' Zoe Saldana', ' Sigourney Weaver', ' Stephen Lang', ' Michelle Rodriguez', ' Giovanni Ribisi', ' Joel David Moore', ' CCH Pounder', ' Wes Studi', ' Laz Alonso', ' Dileep Rao', ' Matt Gerald', ' Sean Anthony Moran', ' Jason Whyte', ' Scott Lawrence'], 'genres': ['Action', ' Adventure', ' Fantasy', ' Sci-Fi'], 'spoken_languages': ['English', ' Spanish'], 'production_companies': ['Dune Entertainment', ' Lightstorm Entertainment', ' 20th Century Fox', ' Ingenious Media'], 'directors': ['James Cameron']}, excluded_embed_metadata_keys=[], excluded_llm_metadata_keys=[], relationships={<NodeRelationship.SOURCE: '1'>: RelatedNodeInfo(node_id='990bb088-dfdb-4ddd-99c4-a2a57f60d8ac', node_type=<ObjectType.DOCUMENT: '4'>, metadata={'title': 'Avatar', 'release_date': datetime.date(2009, 12, 15), 'runtime': 162, 'original_language': 'English', 'averageRating': 7.9, 'cast': ['Sam Worthington', ' Zoe Saldana', ' Sigourney Weaver', ' Stephen Lang', ' Michelle Rodriguez', ' Giovanni Ribisi', ' Joel David Moore', ' CCH Pounder', ' Wes Studi', ' Laz Alonso', ' Dileep Rao', ' Matt Gerald', ' Sean Anthony Moran', ' Jason Whyte', ' Scott Lawrence'], 'genres': ['Action', ' Adventure', ' Fantasy', ' Sci-Fi'], 'spoken_languages': ['English', ' Spanish'], 'production_companies': ['Dune Entertainment', ' Lightstorm Entertainment', ' 20th Century Fox', ' Ingenious Media'], 'directors': ['James Cameron']}, hash='44068f3a2329263f51318b7b72fa03a22c0141aca996701facf10c0c37077479')}, text='When his brother is killed in a robbery, paraplegic Marine Jake Sully decides to take his place in a mission on the distant world of Pandora. There he learns of greedy corporate figurehead Parker Selfridge\\'s intentions of driving off the native humanoid \"Na\\'vi\" in order to mine for the precious material scattered throughout their rich woodland. In exchange for the spinal surgery that will fix his legs, Jake gathers knowledge, of the Indigenous Race and their Culture, for the cooperating military unit spearheaded by gung-ho Colonel Quaritch, while simultaneously attempting to infiltrate the Na\\'vi people with the use of an \"avatar\" identity. While Jake begins to bond with the native tribe and quickly falls in love with the beautiful alien Neytiri, the restless Colonel moves forward with his ruthless extermination tactics, forcing the soldier to take a stand - and fight back in an epic battle for the fate of Pandora.', mimetype='text/plain', start_char_idx=0, end_char_idx=927, text_template='Movie Metadata:\\n {metadata_str}\\n Plot Summary:\\n {content}', metadata_template='{key}: {value}', metadata_seperator=', '),\n",
       " TextNode(id_='ab6ccb17-b4cb-481d-8b10-41e1e674bc36', embedding=None, metadata={'title': 'The Avengers', 'release_date': datetime.date(2012, 4, 25), 'runtime': 143, 'original_language': 'English', 'averageRating': 8.0, 'cast': ['Robert Downey Jr.', ' Chris Evans', ' Mark Ruffalo', ' Chris Hemsworth', ' Scarlett Johansson', ' Jeremy Renner', ' Tom Hiddleston', ' Clark Gregg', ' Cobie Smulders', ' Stellan Skarsgård', ' Samuel L. Jackson', ' Gwyneth Paltrow', ' Paul Bettany', ' Alexis Denisof', ' Tina Benko'], 'genres': ['Action', ' Sci-Fi'], 'spoken_languages': ['English', ' Hindi', ' Russian'], 'production_companies': ['Marvel Studios'], 'directors': ['Joss Whedon']}, excluded_embed_metadata_keys=[], excluded_llm_metadata_keys=[], relationships={<NodeRelationship.SOURCE: '1'>: RelatedNodeInfo(node_id='d8d9c35d-a337-4e54-affc-f08271141b52', node_type=<ObjectType.DOCUMENT: '4'>, metadata={'title': 'The Avengers', 'release_date': datetime.date(2012, 4, 25), 'runtime': 143, 'original_language': 'English', 'averageRating': 8.0, 'cast': ['Robert Downey Jr.', ' Chris Evans', ' Mark Ruffalo', ' Chris Hemsworth', ' Scarlett Johansson', ' Jeremy Renner', ' Tom Hiddleston', ' Clark Gregg', ' Cobie Smulders', ' Stellan Skarsgård', ' Samuel L. Jackson', ' Gwyneth Paltrow', ' Paul Bettany', ' Alexis Denisof', ' Tina Benko'], 'genres': ['Action', ' Sci-Fi'], 'spoken_languages': ['English', ' Hindi', ' Russian'], 'production_companies': ['Marvel Studios'], 'directors': ['Joss Whedon']}, hash='938fa1d9f1be1519436a59bbff1b4685e33a8b1f1ac50eb89ae036e0889c3f4e')}, text=\"Loki, the adopted brother of Thor, teams-up with the Chitauri Army and uses the Tesseract's power to travel from Asgard to Midgard to plot the invasion of Earth and become a king. The director of the agency S.H.I.E.L.D., Nick Fury, sets in motion project Avengers, joining Tony Stark a.k.a. the Iron Man; Steve Rogers, a.k.a. Captain America; Bruce Banner, a.k.a. The Hulk; Thor; Natasha Romanoff, a.k.a. Black Widow; and Clint Barton, a.k.a. Hawkeye, to save the world from the powerful Loki and the alien invasion.\", mimetype='text/plain', start_char_idx=0, end_char_idx=516, text_template='Movie Metadata:\\n {metadata_str}\\n Plot Summary:\\n {content}', metadata_template='{key}: {value}', metadata_seperator=', ')]"
      ]
     },
     "execution_count": 4,
     "metadata": {},
     "output_type": "execute_result"
    }
   ],
   "source": [
    "nodes[:5]"
   ]
  },
  {
   "cell_type": "code",
   "execution_count": 5,
   "metadata": {},
   "outputs": [
    {
     "data": {
      "text/plain": [
       "{'title': 'Inception',\n",
       " 'release_date': datetime.date(2010, 7, 15),\n",
       " 'runtime': 148,\n",
       " 'original_language': 'English',\n",
       " 'averageRating': 8.8,\n",
       " 'cast': ['Leonardo DiCaprio',\n",
       "  ' Joseph Gordon-Levitt',\n",
       "  ' Elliot Page',\n",
       "  ' Tom Hardy',\n",
       "  ' Ken Watanabe',\n",
       "  ' Dileep Rao',\n",
       "  ' Cillian Murphy',\n",
       "  ' Tom Berenger',\n",
       "  ' Marion Cotillard',\n",
       "  ' Pete Postlethwaite',\n",
       "  ' Michael Caine',\n",
       "  ' Lukas Haas',\n",
       "  ' Tai-Li Lee',\n",
       "  ' Claire Geare',\n",
       "  ' Magnus Nolan'],\n",
       " 'genres': ['Action', ' Adventure', ' Sci-Fi', ' Thriller'],\n",
       " 'spoken_languages': ['English', ' French', ' Japanese', ' Swahili'],\n",
       " 'production_companies': ['Legendary Pictures',\n",
       "  ' Syncopy',\n",
       "  ' Warner Bros. Pictures'],\n",
       " 'directors': ['Christopher Nolan']}"
      ]
     },
     "execution_count": 5,
     "metadata": {},
     "output_type": "execute_result"
    }
   ],
   "source": [
    "nodes[0].metadata"
   ]
  },
  {
   "cell_type": "code",
   "execution_count": 6,
   "metadata": {},
   "outputs": [
    {
     "name": "stdout",
     "output_type": "stream",
     "text": [
      "The LLM sees this: \n",
      " Movie Metadata:\n",
      " title: Inception, release_date: 2010-07-15, runtime: 148, original_language: English, averageRating: 8.8, cast: ['Leonardo DiCaprio', ' Joseph Gordon-Levitt', ' Elliot Page', ' Tom Hardy', ' Ken Watanabe', ' Dileep Rao', ' Cillian Murphy', ' Tom Berenger', ' Marion Cotillard', ' Pete Postlethwaite', ' Michael Caine', ' Lukas Haas', ' Tai-Li Lee', ' Claire Geare', ' Magnus Nolan'], genres: ['Action', ' Adventure', ' Sci-Fi', ' Thriller'], spoken_languages: ['English', ' French', ' Japanese', ' Swahili'], production_companies: ['Legendary Pictures', ' Syncopy', ' Warner Bros. Pictures'], directors: ['Christopher Nolan']\n",
      " Plot Summary:\n",
      " Dom Cobb is a skilled thief, the absolute best in the dangerous art of extraction, stealing valuable secrets from deep within the subconscious during the dream state, when the mind is at its most vulnerable. Cobb's rare ability has made him a coveted player in this treacherous new world of corporate espionage, but it has also made him an international fugitive and cost him everything he has ever loved. Now Cobb is being offered a chance at redemption. One last job could give him his life back but only if he can accomplish the impossible, inception. Instead of the perfect heist, Cobb and his team of specialists have to pull off the reverse: their task is not to steal an idea, but to plant one. If they succeed, it could be the perfect crime. But no amount of careful planning or expertise can prepare the team for the dangerous enemy that seems to predict their every move. An enemy that only Cobb could have seen coming.\n",
      "\n",
      "\n",
      "\n",
      "The Embedding model sees this: \n",
      " Movie Metadata:\n",
      " title: Inception, release_date: 2010-07-15, runtime: 148, original_language: English, averageRating: 8.8, cast: ['Leonardo DiCaprio', ' Joseph Gordon-Levitt', ' Elliot Page', ' Tom Hardy', ' Ken Watanabe', ' Dileep Rao', ' Cillian Murphy', ' Tom Berenger', ' Marion Cotillard', ' Pete Postlethwaite', ' Michael Caine', ' Lukas Haas', ' Tai-Li Lee', ' Claire Geare', ' Magnus Nolan'], genres: ['Action', ' Adventure', ' Sci-Fi', ' Thriller'], spoken_languages: ['English', ' French', ' Japanese', ' Swahili'], production_companies: ['Legendary Pictures', ' Syncopy', ' Warner Bros. Pictures'], directors: ['Christopher Nolan']\n",
      " Plot Summary:\n",
      " Dom Cobb is a skilled thief, the absolute best in the dangerous art of extraction, stealing valuable secrets from deep within the subconscious during the dream state, when the mind is at its most vulnerable. Cobb's rare ability has made him a coveted player in this treacherous new world of corporate espionage, but it has also made him an international fugitive and cost him everything he has ever loved. Now Cobb is being offered a chance at redemption. One last job could give him his life back but only if he can accomplish the impossible, inception. Instead of the perfect heist, Cobb and his team of specialists have to pull off the reverse: their task is not to steal an idea, but to plant one. If they succeed, it could be the perfect crime. But no amount of careful planning or expertise can prepare the team for the dangerous enemy that seems to predict their every move. An enemy that only Cobb could have seen coming.\n"
     ]
    }
   ],
   "source": [
    "print(\n",
    "    \"The LLM sees this: \\n\",\n",
    "    nodes[0].get_content(metadata_mode=MetadataMode.LLM),\n",
    ")\n",
    "print()\n",
    "print()\n",
    "print()\n",
    "\n",
    "print(\n",
    "    \"The Embedding model sees this: \\n\",\n",
    "    nodes[0].get_content(metadata_mode=MetadataMode.EMBED),\n",
    ")"
   ]
  },
  {
   "cell_type": "code",
   "execution_count": null,
   "metadata": {},
   "outputs": [],
   "source": []
  }
 ],
 "metadata": {
  "kernelspec": {
   "display_name": "mlenv",
   "language": "python",
   "name": "python3"
  },
  "language_info": {
   "codemirror_mode": {
    "name": "ipython",
    "version": 3
   },
   "file_extension": ".py",
   "mimetype": "text/x-python",
   "name": "python",
   "nbconvert_exporter": "python",
   "pygments_lexer": "ipython3",
   "version": "3.12.2"
  }
 },
 "nbformat": 4,
 "nbformat_minor": 2
}
