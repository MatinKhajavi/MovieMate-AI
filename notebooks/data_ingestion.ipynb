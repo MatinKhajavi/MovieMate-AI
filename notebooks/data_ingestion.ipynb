{
 "cells": [
  {
   "cell_type": "code",
   "execution_count": 1,
   "metadata": {},
   "outputs": [],
   "source": [
    "from src.data_loader import DataLoader\n",
    "from llama_index.core.schema import MetadataMode\n"
   ]
  },
  {
   "cell_type": "code",
   "execution_count": 2,
   "metadata": {},
   "outputs": [],
   "source": [
    "dl = DataLoader(\"../data/data.csv\", \"plot\", ['title', 'directors', 'averageRating',\n",
    "                                            'revenue', 'runtime',\n",
    "                                            'original_language', 'cast', 'genres',\n",
    "                                            'spoken_languages', 'production_companies',\n",
    "                                            'release_year', 'release_month', 'release_day'])"
   ]
  },
  {
   "cell_type": "code",
   "execution_count": 3,
   "metadata": {},
   "outputs": [],
   "source": [
    "nodes = dl.ingest_data()"
   ]
  },
  {
   "cell_type": "code",
   "execution_count": 5,
   "metadata": {},
   "outputs": [
    {
     "data": {
      "text/plain": [
       "[TextNode(id_='7d6e64b2-f256-4b93-a4aa-cea086e70a57', embedding=None, metadata={'title': 'Inception', 'directors': ['Christopher Nolan'], 'averageRating': 8.8, 'revenue': 825532764, 'runtime': 148, 'original_language': 'English', 'cast': ['Leonardo DiCaprio', ' Joseph Gordon-Levitt', ' Elliot Page', ' Tom Hardy', ' Ken Watanabe', ' Dileep Rao', ' Cillian Murphy', ' Tom Berenger', ' Marion Cotillard', ' Pete Postlethwaite', ' Michael Caine', ' Lukas Haas', ' Tai-Li Lee', ' Claire Geare', ' Magnus Nolan'], 'genres': ['Action', ' Adventure', ' Sci-Fi', ' Thriller'], 'spoken_languages': ['English', ' French', ' Japanese', ' Swahili'], 'production_companies': ['Legendary Pictures', ' Syncopy', ' Warner Bros. Pictures'], 'release_year': 2010, 'release_month': 7, 'release_day': 15}, excluded_embed_metadata_keys=[], excluded_llm_metadata_keys=[], relationships={<NodeRelationship.SOURCE: '1'>: RelatedNodeInfo(node_id='ce25bf4f-2dc8-4272-ae67-eb969ee2b645', node_type=<ObjectType.DOCUMENT: '4'>, metadata={'title': 'Inception', 'directors': ['Christopher Nolan'], 'averageRating': 8.8, 'revenue': 825532764, 'runtime': 148, 'original_language': 'English', 'cast': ['Leonardo DiCaprio', ' Joseph Gordon-Levitt', ' Elliot Page', ' Tom Hardy', ' Ken Watanabe', ' Dileep Rao', ' Cillian Murphy', ' Tom Berenger', ' Marion Cotillard', ' Pete Postlethwaite', ' Michael Caine', ' Lukas Haas', ' Tai-Li Lee', ' Claire Geare', ' Magnus Nolan'], 'genres': ['Action', ' Adventure', ' Sci-Fi', ' Thriller'], 'spoken_languages': ['English', ' French', ' Japanese', ' Swahili'], 'production_companies': ['Legendary Pictures', ' Syncopy', ' Warner Bros. Pictures'], 'release_year': 2010, 'release_month': 7, 'release_day': 15}, hash='d6b22ddc84c0e59ede483ff7e43a2a4ba59d2543c11a0106166277fff031d5c6'), <NodeRelationship.NEXT: '3'>: RelatedNodeInfo(node_id='9223612c-8309-4c21-a895-0908556d78a2', node_type=<ObjectType.TEXT: '1'>, metadata={}, hash='f812efe9583dc04c3803e34b18759906f3e4b5de0bc2f9c3521ea915db54f16a')}, text='Dominick \"Dom\" Cobb (Leonardo DiCaprio) and business partner Arthur (Joseph Gordon-Levitt) are \"extractors\", people who perform corporate espionage using an experimental military technology to infiltrate the subconscious of their targets and extract information while experiencing shared dreaming. Their latest target is Japanese businessman Saito (Ken Watanabe). The extraction from Saito fails when sabotaged by a memory of Cobb\\'s deceased wife Mal (Marion Cotillard). After Cobb\\'s and Arthur\\'s associate sells them out, Saito reveals that he was actually auditioning the team to perform the difficult act of \"inception\": planting an idea in a person\\'s subconscious.In order to break up the energy conglomerate of ailing competitor Maurice Fischer (Pete Postlethwaite), Saito wants Cobb to plant the idea of dissolving the company into the mind of Fischer\\'s heir, son Robert Fischer (Cillian Murphy). Should Cobb succeed, Saito tells Cobb he will use his influence to clear Cobb of a murder charge, which will allow Cobb to return home and to his children. Cobb accepts Saito\\'s offer. Cobb sets about assembling his team: Eames (Tom Hardy), a conman and identity forger; Yusuf (Dileep Rao), a chemist who concocts the powerful sedative for a stable \"dream within a dream\" strategy; Ariadne (Ellen Page), an architecture student tasked with designing the labyrinth of the dream landscapes; and Arthur.', mimetype='text/plain', start_char_idx=0, end_char_idx=1402, text_template='Movie Metadata:\\n {metadata_str}\\n Plot (or Plot Summary):\\n {content}', metadata_template='{key}: {value}', metadata_seperator=', '),\n",
       " TextNode(id_='9223612c-8309-4c21-a895-0908556d78a2', embedding=None, metadata={'title': 'Inception', 'directors': ['Christopher Nolan'], 'averageRating': 8.8, 'revenue': 825532764, 'runtime': 148, 'original_language': 'English', 'cast': ['Leonardo DiCaprio', ' Joseph Gordon-Levitt', ' Elliot Page', ' Tom Hardy', ' Ken Watanabe', ' Dileep Rao', ' Cillian Murphy', ' Tom Berenger', ' Marion Cotillard', ' Pete Postlethwaite', ' Michael Caine', ' Lukas Haas', ' Tai-Li Lee', ' Claire Geare', ' Magnus Nolan'], 'genres': ['Action', ' Adventure', ' Sci-Fi', ' Thriller'], 'spoken_languages': ['English', ' French', ' Japanese', ' Swahili'], 'production_companies': ['Legendary Pictures', ' Syncopy', ' Warner Bros. Pictures'], 'release_year': 2010, 'release_month': 7, 'release_day': 15}, excluded_embed_metadata_keys=[], excluded_llm_metadata_keys=[], relationships={<NodeRelationship.SOURCE: '1'>: RelatedNodeInfo(node_id='ce25bf4f-2dc8-4272-ae67-eb969ee2b645', node_type=<ObjectType.DOCUMENT: '4'>, metadata={'title': 'Inception', 'directors': ['Christopher Nolan'], 'averageRating': 8.8, 'revenue': 825532764, 'runtime': 148, 'original_language': 'English', 'cast': ['Leonardo DiCaprio', ' Joseph Gordon-Levitt', ' Elliot Page', ' Tom Hardy', ' Ken Watanabe', ' Dileep Rao', ' Cillian Murphy', ' Tom Berenger', ' Marion Cotillard', ' Pete Postlethwaite', ' Michael Caine', ' Lukas Haas', ' Tai-Li Lee', ' Claire Geare', ' Magnus Nolan'], 'genres': ['Action', ' Adventure', ' Sci-Fi', ' Thriller'], 'spoken_languages': ['English', ' French', ' Japanese', ' Swahili'], 'production_companies': ['Legendary Pictures', ' Syncopy', ' Warner Bros. Pictures'], 'release_year': 2010, 'release_month': 7, 'release_day': 15}, hash='d6b22ddc84c0e59ede483ff7e43a2a4ba59d2543c11a0106166277fff031d5c6'), <NodeRelationship.PREVIOUS: '2'>: RelatedNodeInfo(node_id='7d6e64b2-f256-4b93-a4aa-cea086e70a57', node_type=<ObjectType.TEXT: '1'>, metadata={'title': 'Inception', 'directors': ['Christopher Nolan'], 'averageRating': 8.8, 'revenue': 825532764, 'runtime': 148, 'original_language': 'English', 'cast': ['Leonardo DiCaprio', ' Joseph Gordon-Levitt', ' Elliot Page', ' Tom Hardy', ' Ken Watanabe', ' Dileep Rao', ' Cillian Murphy', ' Tom Berenger', ' Marion Cotillard', ' Pete Postlethwaite', ' Michael Caine', ' Lukas Haas', ' Tai-Li Lee', ' Claire Geare', ' Magnus Nolan'], 'genres': ['Action', ' Adventure', ' Sci-Fi', ' Thriller'], 'spoken_languages': ['English', ' French', ' Japanese', ' Swahili'], 'production_companies': ['Legendary Pictures', ' Syncopy', ' Warner Bros. Pictures'], 'release_year': 2010, 'release_month': 7, 'release_day': 15}, hash='7097bfcbfb25ed6cf1cf212d1341daff47fcfcfdb8a6376a9a6917b79537cdb3'), <NodeRelationship.NEXT: '3'>: RelatedNodeInfo(node_id='5e7beab5-387e-42e9-a8ca-e905ac7d2800', node_type=<ObjectType.TEXT: '1'>, metadata={}, hash='24ec5ba26054adb52f153451055879944a3ef3ccce820a9d85531bf4230f1ef5')}, text='Saito insists on accompanying the team to verify the team\\'s success.When the elder Fischer dies in Sydney, Robert Fischer accompanies the body on a flight back to Los Angeles, which the team uses as an opportunity to isolate Fischer. Cobb sedates him, bringing him into a shared dream with the extractors. Using a \"dream within a dream\" strategy, at each level in the layered dreaming, the person generating the dream stays behind to set up a \"kick\" that will be used to awaken the other sleeping team members who have entered another dream layer deeper. Due to the effects of heavy sedation and multi-layered dreaming, death during the mission will result in entering Limbo, an expanse of infinite raw subconscious. Limbo is a space not dreamed by any one individual but is shared space where one mind can make drastic alterations of any kind.In the first level, Yusuf\\'s rainy downtown dream, the team abducts Fischer; however, Fischer\\'s trained subconscious projections attack, wounding Saito severely. Eames temporarily takes the appearance of Fischer\\'s godfather, Peter Browning (Tom Berenger), to suggest Fischer reconsider his father\\'s will. Yusuf drives the team in a van as they are sedated into the second level, a hotel dreamed by Arthur. Here, the extractors recruit Fischer, convincing him that his kidnapping was orchestrated by Browning and that they are Fischer\\'s subconscious dependency.', mimetype='text/plain', start_char_idx=1403, end_char_idx=2806, text_template='Movie Metadata:\\n {metadata_str}\\n Plot (or Plot Summary):\\n {content}', metadata_template='{key}: {value}', metadata_seperator=', '),\n",
       " TextNode(id_='5e7beab5-387e-42e9-a8ca-e905ac7d2800', embedding=None, metadata={'title': 'Inception', 'directors': ['Christopher Nolan'], 'averageRating': 8.8, 'revenue': 825532764, 'runtime': 148, 'original_language': 'English', 'cast': ['Leonardo DiCaprio', ' Joseph Gordon-Levitt', ' Elliot Page', ' Tom Hardy', ' Ken Watanabe', ' Dileep Rao', ' Cillian Murphy', ' Tom Berenger', ' Marion Cotillard', ' Pete Postlethwaite', ' Michael Caine', ' Lukas Haas', ' Tai-Li Lee', ' Claire Geare', ' Magnus Nolan'], 'genres': ['Action', ' Adventure', ' Sci-Fi', ' Thriller'], 'spoken_languages': ['English', ' French', ' Japanese', ' Swahili'], 'production_companies': ['Legendary Pictures', ' Syncopy', ' Warner Bros. Pictures'], 'release_year': 2010, 'release_month': 7, 'release_day': 15}, excluded_embed_metadata_keys=[], excluded_llm_metadata_keys=[], relationships={<NodeRelationship.SOURCE: '1'>: RelatedNodeInfo(node_id='ce25bf4f-2dc8-4272-ae67-eb969ee2b645', node_type=<ObjectType.DOCUMENT: '4'>, metadata={'title': 'Inception', 'directors': ['Christopher Nolan'], 'averageRating': 8.8, 'revenue': 825532764, 'runtime': 148, 'original_language': 'English', 'cast': ['Leonardo DiCaprio', ' Joseph Gordon-Levitt', ' Elliot Page', ' Tom Hardy', ' Ken Watanabe', ' Dileep Rao', ' Cillian Murphy', ' Tom Berenger', ' Marion Cotillard', ' Pete Postlethwaite', ' Michael Caine', ' Lukas Haas', ' Tai-Li Lee', ' Claire Geare', ' Magnus Nolan'], 'genres': ['Action', ' Adventure', ' Sci-Fi', ' Thriller'], 'spoken_languages': ['English', ' French', ' Japanese', ' Swahili'], 'production_companies': ['Legendary Pictures', ' Syncopy', ' Warner Bros. Pictures'], 'release_year': 2010, 'release_month': 7, 'release_day': 15}, hash='d6b22ddc84c0e59ede483ff7e43a2a4ba59d2543c11a0106166277fff031d5c6'), <NodeRelationship.PREVIOUS: '2'>: RelatedNodeInfo(node_id='9223612c-8309-4c21-a895-0908556d78a2', node_type=<ObjectType.TEXT: '1'>, metadata={'title': 'Inception', 'directors': ['Christopher Nolan'], 'averageRating': 8.8, 'revenue': 825532764, 'runtime': 148, 'original_language': 'English', 'cast': ['Leonardo DiCaprio', ' Joseph Gordon-Levitt', ' Elliot Page', ' Tom Hardy', ' Ken Watanabe', ' Dileep Rao', ' Cillian Murphy', ' Tom Berenger', ' Marion Cotillard', ' Pete Postlethwaite', ' Michael Caine', ' Lukas Haas', ' Tai-Li Lee', ' Claire Geare', ' Magnus Nolan'], 'genres': ['Action', ' Adventure', ' Sci-Fi', ' Thriller'], 'spoken_languages': ['English', ' French', ' Japanese', ' Swahili'], 'production_companies': ['Legendary Pictures', ' Syncopy', ' Warner Bros. Pictures'], 'release_year': 2010, 'release_month': 7, 'release_day': 15}, hash='a1e5ce7034ec000562c5479f10fb43e1494c246271b43b64fce3ee9cf7281d87'), <NodeRelationship.NEXT: '3'>: RelatedNodeInfo(node_id='c9d3cd06-eb70-4508-a660-d1a98bdc43f2', node_type=<ObjectType.TEXT: '1'>, metadata={}, hash='eb786e4aae2431b57d3d92043a39223e5553f9220f3762dad349cffee35a258f')}, text='Yusuf drives the team in a van as they are sedated into the second level, a hotel dreamed by Arthur. Here, the extractors recruit Fischer, convincing him that his kidnapping was orchestrated by Browning and that they are Fischer\\'s subconscious dependency. In the third level, a snowy mountain fortress dreamed by Eames, Fischer is told they are in Browning\\'s subconscious, but they are really going deeper into Fischer\\'s. Yusuf, under assault in the first level, initiates his kick too soon by driving off a bridge, removing the gravity of Arthur\\'s dream world and causing an avalanche in Eames\\' dream, a kick which all missed. Arthur improvises a new kick using an elevator that will be synchronized with the van hitting the water, while the team in Eames\\' dream races to finish the job before the new round of kicks.Saito succumbs to his wounds, and Cobb\\'s projection of Mal sabotages the entire plan by killing Fischer, sending them both into Limbo. Cobb and Ariadne enter Limbo to find Fischer and Saito, while Eames remains on his dream level to set up a kick by rigging the fortress with explosives. Cobb reveals to Ariadne that he spent \"50 years\" with Mal in Limbo constructing a world from their shared memories while seemingly growing old together. Returning to the waking world, Cobb and Mal found less than three hours had passed.', mimetype='text/plain', start_char_idx=2551, end_char_idx=3893, text_template='Movie Metadata:\\n {metadata_str}\\n Plot (or Plot Summary):\\n {content}', metadata_template='{key}: {value}', metadata_seperator=', '),\n",
       " TextNode(id_='c9d3cd06-eb70-4508-a660-d1a98bdc43f2', embedding=None, metadata={'title': 'Inception', 'directors': ['Christopher Nolan'], 'averageRating': 8.8, 'revenue': 825532764, 'runtime': 148, 'original_language': 'English', 'cast': ['Leonardo DiCaprio', ' Joseph Gordon-Levitt', ' Elliot Page', ' Tom Hardy', ' Ken Watanabe', ' Dileep Rao', ' Cillian Murphy', ' Tom Berenger', ' Marion Cotillard', ' Pete Postlethwaite', ' Michael Caine', ' Lukas Haas', ' Tai-Li Lee', ' Claire Geare', ' Magnus Nolan'], 'genres': ['Action', ' Adventure', ' Sci-Fi', ' Thriller'], 'spoken_languages': ['English', ' French', ' Japanese', ' Swahili'], 'production_companies': ['Legendary Pictures', ' Syncopy', ' Warner Bros. Pictures'], 'release_year': 2010, 'release_month': 7, 'release_day': 15}, excluded_embed_metadata_keys=[], excluded_llm_metadata_keys=[], relationships={<NodeRelationship.SOURCE: '1'>: RelatedNodeInfo(node_id='ce25bf4f-2dc8-4272-ae67-eb969ee2b645', node_type=<ObjectType.DOCUMENT: '4'>, metadata={'title': 'Inception', 'directors': ['Christopher Nolan'], 'averageRating': 8.8, 'revenue': 825532764, 'runtime': 148, 'original_language': 'English', 'cast': ['Leonardo DiCaprio', ' Joseph Gordon-Levitt', ' Elliot Page', ' Tom Hardy', ' Ken Watanabe', ' Dileep Rao', ' Cillian Murphy', ' Tom Berenger', ' Marion Cotillard', ' Pete Postlethwaite', ' Michael Caine', ' Lukas Haas', ' Tai-Li Lee', ' Claire Geare', ' Magnus Nolan'], 'genres': ['Action', ' Adventure', ' Sci-Fi', ' Thriller'], 'spoken_languages': ['English', ' French', ' Japanese', ' Swahili'], 'production_companies': ['Legendary Pictures', ' Syncopy', ' Warner Bros. Pictures'], 'release_year': 2010, 'release_month': 7, 'release_day': 15}, hash='d6b22ddc84c0e59ede483ff7e43a2a4ba59d2543c11a0106166277fff031d5c6'), <NodeRelationship.PREVIOUS: '2'>: RelatedNodeInfo(node_id='5e7beab5-387e-42e9-a8ca-e905ac7d2800', node_type=<ObjectType.TEXT: '1'>, metadata={'title': 'Inception', 'directors': ['Christopher Nolan'], 'averageRating': 8.8, 'revenue': 825532764, 'runtime': 148, 'original_language': 'English', 'cast': ['Leonardo DiCaprio', ' Joseph Gordon-Levitt', ' Elliot Page', ' Tom Hardy', ' Ken Watanabe', ' Dileep Rao', ' Cillian Murphy', ' Tom Berenger', ' Marion Cotillard', ' Pete Postlethwaite', ' Michael Caine', ' Lukas Haas', ' Tai-Li Lee', ' Claire Geare', ' Magnus Nolan'], 'genres': ['Action', ' Adventure', ' Sci-Fi', ' Thriller'], 'spoken_languages': ['English', ' French', ' Japanese', ' Swahili'], 'production_companies': ['Legendary Pictures', ' Syncopy', ' Warner Bros. Pictures'], 'release_year': 2010, 'release_month': 7, 'release_day': 15}, hash='37bab5d75a431c86581041bc61790409bf711d8dfa9eb942c95419558b272a57'), <NodeRelationship.NEXT: '3'>: RelatedNodeInfo(node_id='c40b8e8e-422a-49c7-af1f-2d27cb333baa', node_type=<ObjectType.TEXT: '1'>, metadata={}, hash='5f42a521a7ecbca9e2f4ceec6f42a3b56e5f6a7280291e7fccef683feb7b077a')}, text='Cobb reveals to Ariadne that he spent \"50 years\" with Mal in Limbo constructing a world from their shared memories while seemingly growing old together. Returning to the waking world, Cobb and Mal found less than three hours had passed. Convinced she was still dreaming, Mal committed suicide and tried to persuade Cobb to do so too, by incriminating him in her death. Facing a murder charge Cobb fled the U.S., leaving his children behind, ostensibly in the shared care of his mother- and father-in-law, Prof. Stephen Miles (Michael Caine).Through his confession, Cobb attains catharsis and chooses to remain in Limbo to search for Saito. Ariadne pushes Fischer off a balcony, resuscitating him at the mountain fortress, where he enters a safe room to discover and accept the planted idea: that his father wishes him to be his \"own man\", and that splitting up the conglomerate might not be a radical notion. All team members other than Cobb and Saito ride the synchronized kicks back to reality: Ariadne jumps off a balcony in Limbo, Eames detonates the explosives in the fortress, Arthur blasts an elevator containing the team\\'s sleeping bodies up an elevator shaft, and the van in Yusuf\\'s dream hits the water.', mimetype='text/plain', start_char_idx=3657, end_char_idx=4870, text_template='Movie Metadata:\\n {metadata_str}\\n Plot (or Plot Summary):\\n {content}', metadata_template='{key}: {value}', metadata_seperator=', '),\n",
       " TextNode(id_='c40b8e8e-422a-49c7-af1f-2d27cb333baa', embedding=None, metadata={'title': 'Inception', 'directors': ['Christopher Nolan'], 'averageRating': 8.8, 'revenue': 825532764, 'runtime': 148, 'original_language': 'English', 'cast': ['Leonardo DiCaprio', ' Joseph Gordon-Levitt', ' Elliot Page', ' Tom Hardy', ' Ken Watanabe', ' Dileep Rao', ' Cillian Murphy', ' Tom Berenger', ' Marion Cotillard', ' Pete Postlethwaite', ' Michael Caine', ' Lukas Haas', ' Tai-Li Lee', ' Claire Geare', ' Magnus Nolan'], 'genres': ['Action', ' Adventure', ' Sci-Fi', ' Thriller'], 'spoken_languages': ['English', ' French', ' Japanese', ' Swahili'], 'production_companies': ['Legendary Pictures', ' Syncopy', ' Warner Bros. Pictures'], 'release_year': 2010, 'release_month': 7, 'release_day': 15}, excluded_embed_metadata_keys=[], excluded_llm_metadata_keys=[], relationships={<NodeRelationship.SOURCE: '1'>: RelatedNodeInfo(node_id='ce25bf4f-2dc8-4272-ae67-eb969ee2b645', node_type=<ObjectType.DOCUMENT: '4'>, metadata={'title': 'Inception', 'directors': ['Christopher Nolan'], 'averageRating': 8.8, 'revenue': 825532764, 'runtime': 148, 'original_language': 'English', 'cast': ['Leonardo DiCaprio', ' Joseph Gordon-Levitt', ' Elliot Page', ' Tom Hardy', ' Ken Watanabe', ' Dileep Rao', ' Cillian Murphy', ' Tom Berenger', ' Marion Cotillard', ' Pete Postlethwaite', ' Michael Caine', ' Lukas Haas', ' Tai-Li Lee', ' Claire Geare', ' Magnus Nolan'], 'genres': ['Action', ' Adventure', ' Sci-Fi', ' Thriller'], 'spoken_languages': ['English', ' French', ' Japanese', ' Swahili'], 'production_companies': ['Legendary Pictures', ' Syncopy', ' Warner Bros. Pictures'], 'release_year': 2010, 'release_month': 7, 'release_day': 15}, hash='d6b22ddc84c0e59ede483ff7e43a2a4ba59d2543c11a0106166277fff031d5c6'), <NodeRelationship.PREVIOUS: '2'>: RelatedNodeInfo(node_id='c9d3cd06-eb70-4508-a660-d1a98bdc43f2', node_type=<ObjectType.TEXT: '1'>, metadata={'title': 'Inception', 'directors': ['Christopher Nolan'], 'averageRating': 8.8, 'revenue': 825532764, 'runtime': 148, 'original_language': 'English', 'cast': ['Leonardo DiCaprio', ' Joseph Gordon-Levitt', ' Elliot Page', ' Tom Hardy', ' Ken Watanabe', ' Dileep Rao', ' Cillian Murphy', ' Tom Berenger', ' Marion Cotillard', ' Pete Postlethwaite', ' Michael Caine', ' Lukas Haas', ' Tai-Li Lee', ' Claire Geare', ' Magnus Nolan'], 'genres': ['Action', ' Adventure', ' Sci-Fi', ' Thriller'], 'spoken_languages': ['English', ' French', ' Japanese', ' Swahili'], 'production_companies': ['Legendary Pictures', ' Syncopy', ' Warner Bros. Pictures'], 'release_year': 2010, 'release_month': 7, 'release_day': 15}, hash='7d0e0fccfbce3ca5f93105df0e6ee956ae38ad77347c52792e6229a70a945e38')}, text='Cobb eventually finds an aged Saito in Limbo and the two remember their arrangement, presumably shooting themselves and waking to outer-world reality back on the airplane, where the entire team and Robert Fischer have awakened.Upon arriving in Los Angeles, Cobb successfully passes through U.S. customs to his waiting father-in-law, who reunites him with his children. Cobb attempts to determine if he is dreaming or awake by spinning a top but ignores its outcome to instead happily greet his family.', mimetype='text/plain', start_char_idx=4871, end_char_idx=5372, text_template='Movie Metadata:\\n {metadata_str}\\n Plot (or Plot Summary):\\n {content}', metadata_template='{key}: {value}', metadata_seperator=', ')]"
      ]
     },
     "execution_count": 5,
     "metadata": {},
     "output_type": "execute_result"
    }
   ],
   "source": [
    "nodes[:5]"
   ]
  },
  {
   "cell_type": "code",
   "execution_count": 5,
   "metadata": {},
   "outputs": [
    {
     "data": {
      "text/plain": [
       "{'title': 'Inception',\n",
       " 'directors': ['Christopher Nolan'],\n",
       " 'averageRating': 8.8,\n",
       " 'revenue': 825532764,\n",
       " 'runtime': 148,\n",
       " 'original_language': 'English',\n",
       " 'cast': ['Leonardo DiCaprio',\n",
       "  ' Joseph Gordon-Levitt',\n",
       "  ' Elliot Page',\n",
       "  ' Tom Hardy',\n",
       "  ' Ken Watanabe',\n",
       "  ' Dileep Rao',\n",
       "  ' Cillian Murphy',\n",
       "  ' Tom Berenger',\n",
       "  ' Marion Cotillard',\n",
       "  ' Pete Postlethwaite',\n",
       "  ' Michael Caine',\n",
       "  ' Lukas Haas',\n",
       "  ' Tai-Li Lee',\n",
       "  ' Claire Geare',\n",
       "  ' Magnus Nolan'],\n",
       " 'genres': ['Action', ' Adventure', ' Sci-Fi', ' Thriller'],\n",
       " 'spoken_languages': ['English', ' French', ' Japanese', ' Swahili'],\n",
       " 'production_companies': ['Legendary Pictures',\n",
       "  ' Syncopy',\n",
       "  ' Warner Bros. Pictures'],\n",
       " 'release_year': 2010,\n",
       " 'release_month': 7,\n",
       " 'release_day': 15}"
      ]
     },
     "execution_count": 5,
     "metadata": {},
     "output_type": "execute_result"
    }
   ],
   "source": [
    "nodes[0].metadata"
   ]
  },
  {
   "cell_type": "code",
   "execution_count": 6,
   "metadata": {},
   "outputs": [
    {
     "name": "stdout",
     "output_type": "stream",
     "text": [
      "The LLM sees this: \n",
      " Movie Metadata:\n",
      " title: Inception, directors: ['Christopher Nolan'], averageRating: 8.8, revenue: 825532764, runtime: 148, original_language: English, cast: ['Leonardo DiCaprio', ' Joseph Gordon-Levitt', ' Elliot Page', ' Tom Hardy', ' Ken Watanabe', ' Dileep Rao', ' Cillian Murphy', ' Tom Berenger', ' Marion Cotillard', ' Pete Postlethwaite', ' Michael Caine', ' Lukas Haas', ' Tai-Li Lee', ' Claire Geare', ' Magnus Nolan'], genres: ['Action', ' Adventure', ' Sci-Fi', ' Thriller'], spoken_languages: ['English', ' French', ' Japanese', ' Swahili'], production_companies: ['Legendary Pictures', ' Syncopy', ' Warner Bros. Pictures'], release_year: 2010, release_month: 7, release_day: 15\n",
      " Plot (or Plot Summary):\n",
      " Dominick \"Dom\" Cobb (Leonardo DiCaprio) and business partner Arthur (Joseph Gordon-Levitt) are \"extractors\", people who perform corporate espionage using an experimental military technology to infiltrate the subconscious of their targets and extract information while experiencing shared dreaming. Their latest target is Japanese businessman Saito (Ken Watanabe). The extraction from Saito fails when sabotaged by a memory of Cobb's deceased wife Mal (Marion Cotillard). After Cobb's and Arthur's associate sells them out, Saito reveals that he was actually auditioning the team to perform the difficult act of \"inception\": planting an idea in a person's subconscious.In order to break up the energy conglomerate of ailing competitor Maurice Fischer (Pete Postlethwaite), Saito wants Cobb to plant the idea of dissolving the company into the mind of Fischer's heir, son Robert Fischer (Cillian Murphy). Should Cobb succeed, Saito tells Cobb he will use his influence to clear Cobb of a murder charge, which will allow Cobb to return home and to his children. Cobb accepts Saito's offer. Cobb sets about assembling his team: Eames (Tom Hardy), a conman and identity forger; Yusuf (Dileep Rao), a chemist who concocts the powerful sedative for a stable \"dream within a dream\" strategy; Ariadne (Ellen Page), an architecture student tasked with designing the labyrinth of the dream landscapes; and Arthur.\n",
      "\n",
      "\n",
      "\n",
      "The Embedding model sees this: \n",
      " Movie Metadata:\n",
      " title: Inception, directors: ['Christopher Nolan'], averageRating: 8.8, revenue: 825532764, runtime: 148, original_language: English, cast: ['Leonardo DiCaprio', ' Joseph Gordon-Levitt', ' Elliot Page', ' Tom Hardy', ' Ken Watanabe', ' Dileep Rao', ' Cillian Murphy', ' Tom Berenger', ' Marion Cotillard', ' Pete Postlethwaite', ' Michael Caine', ' Lukas Haas', ' Tai-Li Lee', ' Claire Geare', ' Magnus Nolan'], genres: ['Action', ' Adventure', ' Sci-Fi', ' Thriller'], spoken_languages: ['English', ' French', ' Japanese', ' Swahili'], production_companies: ['Legendary Pictures', ' Syncopy', ' Warner Bros. Pictures'], release_year: 2010, release_month: 7, release_day: 15\n",
      " Plot (or Plot Summary):\n",
      " Dominick \"Dom\" Cobb (Leonardo DiCaprio) and business partner Arthur (Joseph Gordon-Levitt) are \"extractors\", people who perform corporate espionage using an experimental military technology to infiltrate the subconscious of their targets and extract information while experiencing shared dreaming. Their latest target is Japanese businessman Saito (Ken Watanabe). The extraction from Saito fails when sabotaged by a memory of Cobb's deceased wife Mal (Marion Cotillard). After Cobb's and Arthur's associate sells them out, Saito reveals that he was actually auditioning the team to perform the difficult act of \"inception\": planting an idea in a person's subconscious.In order to break up the energy conglomerate of ailing competitor Maurice Fischer (Pete Postlethwaite), Saito wants Cobb to plant the idea of dissolving the company into the mind of Fischer's heir, son Robert Fischer (Cillian Murphy). Should Cobb succeed, Saito tells Cobb he will use his influence to clear Cobb of a murder charge, which will allow Cobb to return home and to his children. Cobb accepts Saito's offer. Cobb sets about assembling his team: Eames (Tom Hardy), a conman and identity forger; Yusuf (Dileep Rao), a chemist who concocts the powerful sedative for a stable \"dream within a dream\" strategy; Ariadne (Ellen Page), an architecture student tasked with designing the labyrinth of the dream landscapes; and Arthur.\n"
     ]
    }
   ],
   "source": [
    "print(\n",
    "    \"The LLM sees this: \\n\",\n",
    "    nodes[0].get_content(metadata_mode=MetadataMode.LLM),\n",
    ")\n",
    "print()\n",
    "print()\n",
    "print()\n",
    "\n",
    "print(\n",
    "    \"The Embedding model sees this: \\n\",\n",
    "    nodes[0].get_content(metadata_mode=MetadataMode.EMBED),\n",
    ")"
   ]
  },
  {
   "cell_type": "code",
   "execution_count": null,
   "metadata": {},
   "outputs": [],
   "source": []
  }
 ],
 "metadata": {
  "kernelspec": {
   "display_name": "mlenv",
   "language": "python",
   "name": "python3"
  },
  "language_info": {
   "codemirror_mode": {
    "name": "ipython",
    "version": 3
   },
   "file_extension": ".py",
   "mimetype": "text/x-python",
   "name": "python",
   "nbconvert_exporter": "python",
   "pygments_lexer": "ipython3",
   "version": "3.12.2"
  }
 },
 "nbformat": 4,
 "nbformat_minor": 2
}
