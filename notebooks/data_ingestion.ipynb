{
 "cells": [
  {
   "cell_type": "code",
   "execution_count": 1,
   "metadata": {},
   "outputs": [],
   "source": [
    "from src.data_loader import DataLoader\n",
    "from llama_index.core.schema import MetadataMode\n"
   ]
  },
  {
   "cell_type": "code",
   "execution_count": 2,
   "metadata": {},
   "outputs": [],
   "source": [
    "dl = DataLoader(\"../data/data.csv\", \"plot_summary\", ['title', 'release_date', 'runtime', 'original_language', 'averageRating',\n",
    "                                                      'cast', 'genres', 'spoken_languages', 'production_companies', 'directors'])"
   ]
  },
  {
   "cell_type": "code",
   "execution_count": 3,
   "metadata": {},
   "outputs": [],
   "source": [
    "nodes = dl.ingest_data()"
   ]
  },
  {
   "cell_type": "code",
   "execution_count": 4,
   "metadata": {},
   "outputs": [
    {
     "data": {
      "text/plain": [
       "[TextNode(id_='bd9fce38-e7ed-4932-90bf-3e1f6445a99b', embedding=None, metadata={'title': 'Inception', 'release_date': '2010-07-15', 'runtime': 148, 'original_language': 'English', 'averageRating': 8.8, 'cast': ['Leonardo DiCaprio', ' Joseph Gordon-Levitt', ' Elliot Page', ' Tom Hardy', ' Ken Watanabe', ' Dileep Rao', ' Cillian Murphy', ' Tom Berenger', ' Marion Cotillard', ' Pete Postlethwaite', ' Michael Caine', ' Lukas Haas', ' Tai-Li Lee', ' Claire Geare', ' Magnus Nolan'], 'genres': ['Action', ' Adventure', ' Sci-Fi', ' Thriller'], 'spoken_languages': ['English', ' French', ' Japanese', ' Swahili'], 'production_companies': ['Legendary Pictures', ' Syncopy', ' Warner Bros. Pictures'], 'directors': ['Christopher Nolan']}, excluded_embed_metadata_keys=[], excluded_llm_metadata_keys=[], relationships={<NodeRelationship.SOURCE: '1'>: RelatedNodeInfo(node_id='fffae5ba-3c5a-4c92-93f6-5b71840311f0', node_type=<ObjectType.DOCUMENT: '4'>, metadata={'title': 'Inception', 'release_date': '2010-07-15', 'runtime': 148, 'original_language': 'English', 'averageRating': 8.8, 'cast': ['Leonardo DiCaprio', ' Joseph Gordon-Levitt', ' Elliot Page', ' Tom Hardy', ' Ken Watanabe', ' Dileep Rao', ' Cillian Murphy', ' Tom Berenger', ' Marion Cotillard', ' Pete Postlethwaite', ' Michael Caine', ' Lukas Haas', ' Tai-Li Lee', ' Claire Geare', ' Magnus Nolan'], 'genres': ['Action', ' Adventure', ' Sci-Fi', ' Thriller'], 'spoken_languages': ['English', ' French', ' Japanese', ' Swahili'], 'production_companies': ['Legendary Pictures', ' Syncopy', ' Warner Bros. Pictures'], 'directors': ['Christopher Nolan']}, hash='10a354210cd1097a6956a295e2932a1d146d2b37ec5874635346a5dfb3ba8dd3')}, text=\"Dom Cobb is a skilled thief, the absolute best in the dangerous art of extraction, stealing valuable secrets from deep within the subconscious during the dream state, when the mind is at its most vulnerable. Cobb's rare ability has made him a coveted player in this treacherous new world of corporate espionage, but it has also made him an international fugitive and cost him everything he has ever loved. Now Cobb is being offered a chance at redemption. One last job could give him his life back but only if he can accomplish the impossible, inception. Instead of the perfect heist, Cobb and his team of specialists have to pull off the reverse: their task is not to steal an idea, but to plant one. If they succeed, it could be the perfect crime. But no amount of careful planning or expertise can prepare the team for the dangerous enemy that seems to predict their every move. An enemy that only Cobb could have seen coming.\", mimetype='text/plain', start_char_idx=0, end_char_idx=929, text_template='Movie Metadata:\\n {metadata_str}\\n Plot Summary:\\n {content}', metadata_template='{key}: {value}', metadata_seperator=', '),\n",
       " TextNode(id_='2990218e-d3e0-411f-b49c-596710277a16', embedding=None, metadata={'title': 'Interstellar', 'release_date': '2014-11-05', 'runtime': 169, 'original_language': 'English', 'averageRating': 8.7, 'cast': ['Ellen Burstyn', ' Matthew McConaughey', ' Mackenzie Foy', ' John Lithgow', ' Timothée Chalamet', ' David Oyelowo', ' Collette Wolfe', ' Francis X. McCarthy', ' Bill Irwin', ' Anne Hathaway', ' Andrew Borba', ' Wes Bentley', ' William Devane', ' Michael Caine', ' David Gyasi'], 'genres': ['Adventure', ' Drama', ' Sci-Fi'], 'spoken_languages': ['English'], 'production_companies': ['Legendary Pictures', ' Syncopy', ' Lynda Obst Productions'], 'directors': ['Christopher Nolan']}, excluded_embed_metadata_keys=[], excluded_llm_metadata_keys=[], relationships={<NodeRelationship.SOURCE: '1'>: RelatedNodeInfo(node_id='222b816a-0d61-4f35-b5c5-3bece583de73', node_type=<ObjectType.DOCUMENT: '4'>, metadata={'title': 'Interstellar', 'release_date': '2014-11-05', 'runtime': 169, 'original_language': 'English', 'averageRating': 8.7, 'cast': ['Ellen Burstyn', ' Matthew McConaughey', ' Mackenzie Foy', ' John Lithgow', ' Timothée Chalamet', ' David Oyelowo', ' Collette Wolfe', ' Francis X. McCarthy', ' Bill Irwin', ' Anne Hathaway', ' Andrew Borba', ' Wes Bentley', ' William Devane', ' Michael Caine', ' David Gyasi'], 'genres': ['Adventure', ' Drama', ' Sci-Fi'], 'spoken_languages': ['English'], 'production_companies': ['Legendary Pictures', ' Syncopy', ' Lynda Obst Productions'], 'directors': ['Christopher Nolan']}, hash='5e19e955484fcdfbb2af4ceadb5d333916a28f2fcefa0401a5e7f4ef879c9156')}, text=\"Earth's future has been riddled by disasters, famines, and droughts. There is only one way to ensure mankind's survival: Interstellar travel. A newly discovered wormhole in the far reaches of our solar system allows a team of astronauts to go where no man has gone before, a planet that may have the right environment to sustain human life.\", mimetype='text/plain', start_char_idx=0, end_char_idx=340, text_template='Movie Metadata:\\n {metadata_str}\\n Plot Summary:\\n {content}', metadata_template='{key}: {value}', metadata_seperator=', '),\n",
       " TextNode(id_='71f48ba4-668b-4333-a013-ed08d04048df', embedding=None, metadata={'title': 'The Dark Knight', 'release_date': '2008-07-16', 'runtime': 152, 'original_language': 'English', 'averageRating': 9.0, 'cast': ['Christian Bale', ' Heath Ledger', ' Aaron Eckhart', ' Michael Caine', ' Maggie Gyllenhaal', ' Gary Oldman', ' Morgan Freeman', ' Monique Gabriela Curnen', ' Ron Dean', ' Cillian Murphy', ' Chin Han', ' Nestor Carbonell', ' Eric Roberts', ' Ritchie Coster', ' Anthony Michael Hall'], 'genres': ['Action', ' Crime', ' Drama', ' Thriller'], 'spoken_languages': ['English', ' Mandarin'], 'production_companies': ['DC Comics', ' Legendary Pictures', ' Syncopy', ' Isobel Griffiths', ' Warner Bros. Pictures'], 'directors': ['Christopher Nolan']}, excluded_embed_metadata_keys=[], excluded_llm_metadata_keys=[], relationships={<NodeRelationship.SOURCE: '1'>: RelatedNodeInfo(node_id='455f830a-cdd1-4ff9-81c2-546d51605d16', node_type=<ObjectType.DOCUMENT: '4'>, metadata={'title': 'The Dark Knight', 'release_date': '2008-07-16', 'runtime': 152, 'original_language': 'English', 'averageRating': 9.0, 'cast': ['Christian Bale', ' Heath Ledger', ' Aaron Eckhart', ' Michael Caine', ' Maggie Gyllenhaal', ' Gary Oldman', ' Morgan Freeman', ' Monique Gabriela Curnen', ' Ron Dean', ' Cillian Murphy', ' Chin Han', ' Nestor Carbonell', ' Eric Roberts', ' Ritchie Coster', ' Anthony Michael Hall'], 'genres': ['Action', ' Crime', ' Drama', ' Thriller'], 'spoken_languages': ['English', ' Mandarin'], 'production_companies': ['DC Comics', ' Legendary Pictures', ' Syncopy', ' Isobel Griffiths', ' Warner Bros. Pictures'], 'directors': ['Christopher Nolan']}, hash='e9e026d52c3dc06043787d4ccb6a240f706016053ee7376150acef6e9629293d')}, text='Set within a year after the events of Batman Begins (2005), Batman, Lieutenant James Gordon, and new District Attorney Harvey Dent successfully begin to round up the criminals that plague Gotham City, until a mysterious and sadistic criminal mastermind known only as \"The Joker\" appears in Gotham, creating a new wave of chaos. Batman\\'s struggle against The Joker becomes deeply personal, forcing him to \"confront everything he believes\" and improve his technology to stop him. A love triangle develops between Bruce Wayne, Dent, and Rachel Dawes.', mimetype='text/plain', start_char_idx=0, end_char_idx=547, text_template='Movie Metadata:\\n {metadata_str}\\n Plot Summary:\\n {content}', metadata_template='{key}: {value}', metadata_seperator=', '),\n",
       " TextNode(id_='a0320294-16f5-4cbb-8178-b85b148d15d2', embedding=None, metadata={'title': 'Avatar', 'release_date': '2009-12-15', 'runtime': 162, 'original_language': 'English', 'averageRating': 7.9, 'cast': ['Sam Worthington', ' Zoe Saldana', ' Sigourney Weaver', ' Stephen Lang', ' Michelle Rodriguez', ' Giovanni Ribisi', ' Joel David Moore', ' CCH Pounder', ' Wes Studi', ' Laz Alonso', ' Dileep Rao', ' Matt Gerald', ' Sean Anthony Moran', ' Jason Whyte', ' Scott Lawrence'], 'genres': ['Action', ' Adventure', ' Fantasy', ' Sci-Fi'], 'spoken_languages': ['English', ' Spanish'], 'production_companies': ['Dune Entertainment', ' Lightstorm Entertainment', ' 20th Century Fox', ' Ingenious Media'], 'directors': ['James Cameron']}, excluded_embed_metadata_keys=[], excluded_llm_metadata_keys=[], relationships={<NodeRelationship.SOURCE: '1'>: RelatedNodeInfo(node_id='2bf634da-6c9a-422a-9202-55ff00c0a5bc', node_type=<ObjectType.DOCUMENT: '4'>, metadata={'title': 'Avatar', 'release_date': '2009-12-15', 'runtime': 162, 'original_language': 'English', 'averageRating': 7.9, 'cast': ['Sam Worthington', ' Zoe Saldana', ' Sigourney Weaver', ' Stephen Lang', ' Michelle Rodriguez', ' Giovanni Ribisi', ' Joel David Moore', ' CCH Pounder', ' Wes Studi', ' Laz Alonso', ' Dileep Rao', ' Matt Gerald', ' Sean Anthony Moran', ' Jason Whyte', ' Scott Lawrence'], 'genres': ['Action', ' Adventure', ' Fantasy', ' Sci-Fi'], 'spoken_languages': ['English', ' Spanish'], 'production_companies': ['Dune Entertainment', ' Lightstorm Entertainment', ' 20th Century Fox', ' Ingenious Media'], 'directors': ['James Cameron']}, hash='ec368ca750ee93aada5ed7b6b22e326ad3aabfdb090918dbe8b6c9e020448f37')}, text='When his brother is killed in a robbery, paraplegic Marine Jake Sully decides to take his place in a mission on the distant world of Pandora. There he learns of greedy corporate figurehead Parker Selfridge\\'s intentions of driving off the native humanoid \"Na\\'vi\" in order to mine for the precious material scattered throughout their rich woodland. In exchange for the spinal surgery that will fix his legs, Jake gathers knowledge, of the Indigenous Race and their Culture, for the cooperating military unit spearheaded by gung-ho Colonel Quaritch, while simultaneously attempting to infiltrate the Na\\'vi people with the use of an \"avatar\" identity. While Jake begins to bond with the native tribe and quickly falls in love with the beautiful alien Neytiri, the restless Colonel moves forward with his ruthless extermination tactics, forcing the soldier to take a stand - and fight back in an epic battle for the fate of Pandora.', mimetype='text/plain', start_char_idx=0, end_char_idx=927, text_template='Movie Metadata:\\n {metadata_str}\\n Plot Summary:\\n {content}', metadata_template='{key}: {value}', metadata_seperator=', '),\n",
       " TextNode(id_='1a27248c-81df-457d-884d-25ca0277e6fa', embedding=None, metadata={'title': 'The Avengers', 'release_date': '2012-04-25', 'runtime': 143, 'original_language': 'English', 'averageRating': 8.0, 'cast': ['Robert Downey Jr.', ' Chris Evans', ' Mark Ruffalo', ' Chris Hemsworth', ' Scarlett Johansson', ' Jeremy Renner', ' Tom Hiddleston', ' Clark Gregg', ' Cobie Smulders', ' Stellan Skarsgård', ' Samuel L. Jackson', ' Gwyneth Paltrow', ' Paul Bettany', ' Alexis Denisof', ' Tina Benko'], 'genres': ['Action', ' Sci-Fi'], 'spoken_languages': ['English', ' Hindi', ' Russian'], 'production_companies': ['Marvel Studios'], 'directors': ['Joss Whedon']}, excluded_embed_metadata_keys=[], excluded_llm_metadata_keys=[], relationships={<NodeRelationship.SOURCE: '1'>: RelatedNodeInfo(node_id='1e7dff12-6277-46de-b568-f0554215e998', node_type=<ObjectType.DOCUMENT: '4'>, metadata={'title': 'The Avengers', 'release_date': '2012-04-25', 'runtime': 143, 'original_language': 'English', 'averageRating': 8.0, 'cast': ['Robert Downey Jr.', ' Chris Evans', ' Mark Ruffalo', ' Chris Hemsworth', ' Scarlett Johansson', ' Jeremy Renner', ' Tom Hiddleston', ' Clark Gregg', ' Cobie Smulders', ' Stellan Skarsgård', ' Samuel L. Jackson', ' Gwyneth Paltrow', ' Paul Bettany', ' Alexis Denisof', ' Tina Benko'], 'genres': ['Action', ' Sci-Fi'], 'spoken_languages': ['English', ' Hindi', ' Russian'], 'production_companies': ['Marvel Studios'], 'directors': ['Joss Whedon']}, hash='7808f641e854e52311056c6152b3f5842c25b641d491f1b8ecec774fdbe53e39')}, text=\"Loki, the adopted brother of Thor, teams-up with the Chitauri Army and uses the Tesseract's power to travel from Asgard to Midgard to plot the invasion of Earth and become a king. The director of the agency S.H.I.E.L.D., Nick Fury, sets in motion project Avengers, joining Tony Stark a.k.a. the Iron Man; Steve Rogers, a.k.a. Captain America; Bruce Banner, a.k.a. The Hulk; Thor; Natasha Romanoff, a.k.a. Black Widow; and Clint Barton, a.k.a. Hawkeye, to save the world from the powerful Loki and the alien invasion.\", mimetype='text/plain', start_char_idx=0, end_char_idx=516, text_template='Movie Metadata:\\n {metadata_str}\\n Plot Summary:\\n {content}', metadata_template='{key}: {value}', metadata_seperator=', ')]"
      ]
     },
     "execution_count": 4,
     "metadata": {},
     "output_type": "execute_result"
    }
   ],
   "source": [
    "nodes[:5]"
   ]
  },
  {
   "cell_type": "code",
   "execution_count": 5,
   "metadata": {},
   "outputs": [
    {
     "data": {
      "text/plain": [
       "{'title': 'Inception',\n",
       " 'release_date': '2010-07-15',\n",
       " 'runtime': 148,\n",
       " 'original_language': 'English',\n",
       " 'averageRating': 8.8,\n",
       " 'cast': ['Leonardo DiCaprio',\n",
       "  ' Joseph Gordon-Levitt',\n",
       "  ' Elliot Page',\n",
       "  ' Tom Hardy',\n",
       "  ' Ken Watanabe',\n",
       "  ' Dileep Rao',\n",
       "  ' Cillian Murphy',\n",
       "  ' Tom Berenger',\n",
       "  ' Marion Cotillard',\n",
       "  ' Pete Postlethwaite',\n",
       "  ' Michael Caine',\n",
       "  ' Lukas Haas',\n",
       "  ' Tai-Li Lee',\n",
       "  ' Claire Geare',\n",
       "  ' Magnus Nolan'],\n",
       " 'genres': ['Action', ' Adventure', ' Sci-Fi', ' Thriller'],\n",
       " 'spoken_languages': ['English', ' French', ' Japanese', ' Swahili'],\n",
       " 'production_companies': ['Legendary Pictures',\n",
       "  ' Syncopy',\n",
       "  ' Warner Bros. Pictures'],\n",
       " 'directors': ['Christopher Nolan']}"
      ]
     },
     "execution_count": 5,
     "metadata": {},
     "output_type": "execute_result"
    }
   ],
   "source": [
    "nodes[0].metadata"
   ]
  },
  {
   "cell_type": "code",
   "execution_count": 6,
   "metadata": {},
   "outputs": [
    {
     "name": "stdout",
     "output_type": "stream",
     "text": [
      "The LLM sees this: \n",
      " Movie Metadata:\n",
      " title: Inception, release_date: 2010-07-15, runtime: 148, original_language: English, averageRating: 8.8, cast: ['Leonardo DiCaprio', ' Joseph Gordon-Levitt', ' Elliot Page', ' Tom Hardy', ' Ken Watanabe', ' Dileep Rao', ' Cillian Murphy', ' Tom Berenger', ' Marion Cotillard', ' Pete Postlethwaite', ' Michael Caine', ' Lukas Haas', ' Tai-Li Lee', ' Claire Geare', ' Magnus Nolan'], genres: ['Action', ' Adventure', ' Sci-Fi', ' Thriller'], spoken_languages: ['English', ' French', ' Japanese', ' Swahili'], production_companies: ['Legendary Pictures', ' Syncopy', ' Warner Bros. Pictures'], directors: ['Christopher Nolan']\n",
      " Plot Summary:\n",
      " Dom Cobb is a skilled thief, the absolute best in the dangerous art of extraction, stealing valuable secrets from deep within the subconscious during the dream state, when the mind is at its most vulnerable. Cobb's rare ability has made him a coveted player in this treacherous new world of corporate espionage, but it has also made him an international fugitive and cost him everything he has ever loved. Now Cobb is being offered a chance at redemption. One last job could give him his life back but only if he can accomplish the impossible, inception. Instead of the perfect heist, Cobb and his team of specialists have to pull off the reverse: their task is not to steal an idea, but to plant one. If they succeed, it could be the perfect crime. But no amount of careful planning or expertise can prepare the team for the dangerous enemy that seems to predict their every move. An enemy that only Cobb could have seen coming.\n",
      "\n",
      "\n",
      "\n",
      "The Embedding model sees this: \n",
      " Movie Metadata:\n",
      " title: Inception, release_date: 2010-07-15, runtime: 148, original_language: English, averageRating: 8.8, cast: ['Leonardo DiCaprio', ' Joseph Gordon-Levitt', ' Elliot Page', ' Tom Hardy', ' Ken Watanabe', ' Dileep Rao', ' Cillian Murphy', ' Tom Berenger', ' Marion Cotillard', ' Pete Postlethwaite', ' Michael Caine', ' Lukas Haas', ' Tai-Li Lee', ' Claire Geare', ' Magnus Nolan'], genres: ['Action', ' Adventure', ' Sci-Fi', ' Thriller'], spoken_languages: ['English', ' French', ' Japanese', ' Swahili'], production_companies: ['Legendary Pictures', ' Syncopy', ' Warner Bros. Pictures'], directors: ['Christopher Nolan']\n",
      " Plot Summary:\n",
      " Dom Cobb is a skilled thief, the absolute best in the dangerous art of extraction, stealing valuable secrets from deep within the subconscious during the dream state, when the mind is at its most vulnerable. Cobb's rare ability has made him a coveted player in this treacherous new world of corporate espionage, but it has also made him an international fugitive and cost him everything he has ever loved. Now Cobb is being offered a chance at redemption. One last job could give him his life back but only if he can accomplish the impossible, inception. Instead of the perfect heist, Cobb and his team of specialists have to pull off the reverse: their task is not to steal an idea, but to plant one. If they succeed, it could be the perfect crime. But no amount of careful planning or expertise can prepare the team for the dangerous enemy that seems to predict their every move. An enemy that only Cobb could have seen coming.\n"
     ]
    }
   ],
   "source": [
    "print(\n",
    "    \"The LLM sees this: \\n\",\n",
    "    nodes[0].get_content(metadata_mode=MetadataMode.LLM),\n",
    ")\n",
    "print()\n",
    "print()\n",
    "print()\n",
    "\n",
    "print(\n",
    "    \"The Embedding model sees this: \\n\",\n",
    "    nodes[0].get_content(metadata_mode=MetadataMode.EMBED),\n",
    ")"
   ]
  },
  {
   "cell_type": "code",
   "execution_count": null,
   "metadata": {},
   "outputs": [],
   "source": []
  }
 ],
 "metadata": {
  "kernelspec": {
   "display_name": "mlenv",
   "language": "python",
   "name": "python3"
  },
  "language_info": {
   "codemirror_mode": {
    "name": "ipython",
    "version": 3
   },
   "file_extension": ".py",
   "mimetype": "text/x-python",
   "name": "python",
   "nbconvert_exporter": "python",
   "pygments_lexer": "ipython3",
   "version": "3.12.2"
  }
 },
 "nbformat": 4,
 "nbformat_minor": 2
}
