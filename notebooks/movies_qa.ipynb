{
 "cells": [
  {
   "cell_type": "code",
   "execution_count": 1,
   "metadata": {},
   "outputs": [],
   "source": [
    "import pandas as pd\n",
    "import json"
   ]
  },
  {
   "cell_type": "code",
   "execution_count": 2,
   "metadata": {},
   "outputs": [],
   "source": [
    "with open('../data/qa.json', 'r') as f:\n",
    "    data = json.load(f)"
   ]
  },
  {
   "cell_type": "code",
   "execution_count": 3,
   "metadata": {},
   "outputs": [],
   "source": [
    "movies_df = pd.read_csv('../data/data.csv')"
   ]
  },
  {
   "cell_type": "code",
   "execution_count": 4,
   "metadata": {},
   "outputs": [],
   "source": [
    "# Create a list of dictionaries with question, correct answer, and movie title\n",
    "qa_list = []\n",
    "for item in data:\n",
    "    question = item['question']\n",
    "    correct_index = item.get('correct_index')\n",
    "    if correct_index is not None and 0 <= correct_index < len(item['answers']):\n",
    "        answer = item['answers'][correct_index]\n",
    "        movie_title = movies_df[movies_df['imdb_id'] == item['imdb_key']]['title']\n",
    "        if not movie_title.empty:\n",
    "            question = f\"In the movie {movie_title.values[0]}, {question}\"\n",
    "            qa_list.append({'question': question, 'answer': answer})\n",
    "    else:\n",
    "        continue\n"
   ]
  },
  {
   "cell_type": "code",
   "execution_count": 5,
   "metadata": {},
   "outputs": [
    {
     "data": {
      "text/html": [
       "<div>\n",
       "<style scoped>\n",
       "    .dataframe tbody tr th:only-of-type {\n",
       "        vertical-align: middle;\n",
       "    }\n",
       "\n",
       "    .dataframe tbody tr th {\n",
       "        vertical-align: top;\n",
       "    }\n",
       "\n",
       "    .dataframe thead th {\n",
       "        text-align: right;\n",
       "    }\n",
       "</style>\n",
       "<table border=\"1\" class=\"dataframe\">\n",
       "  <thead>\n",
       "    <tr style=\"text-align: right;\">\n",
       "      <th></th>\n",
       "      <th>question</th>\n",
       "      <th>answer</th>\n",
       "    </tr>\n",
       "  </thead>\n",
       "  <tbody>\n",
       "    <tr>\n",
       "      <th>0</th>\n",
       "      <td>In the movie '71, Why does Hook leave Eamon's ...</td>\n",
       "      <td>Because he senses danger.</td>\n",
       "    </tr>\n",
       "    <tr>\n",
       "      <th>1</th>\n",
       "      <td>In the movie '71, What happens to Hook?</td>\n",
       "      <td>He is captured by Quinn's group.</td>\n",
       "    </tr>\n",
       "    <tr>\n",
       "      <th>2</th>\n",
       "      <td>In the movie '71, What do the soldiers and the...</td>\n",
       "      <td>The soldiers and police pull out, leaving the ...</td>\n",
       "    </tr>\n",
       "    <tr>\n",
       "      <th>3</th>\n",
       "      <td>In the movie 10 Things I Hate About You, What ...</td>\n",
       "      <td>They had sex</td>\n",
       "    </tr>\n",
       "    <tr>\n",
       "      <th>4</th>\n",
       "      <td>In the movie 10 Things I Hate About You, How d...</td>\n",
       "      <td>He pays him</td>\n",
       "    </tr>\n",
       "  </tbody>\n",
       "</table>\n",
       "</div>"
      ],
      "text/plain": [
       "                                            question  \\\n",
       "0  In the movie '71, Why does Hook leave Eamon's ...   \n",
       "1            In the movie '71, What happens to Hook?   \n",
       "2  In the movie '71, What do the soldiers and the...   \n",
       "3  In the movie 10 Things I Hate About You, What ...   \n",
       "4  In the movie 10 Things I Hate About You, How d...   \n",
       "\n",
       "                                              answer  \n",
       "0                          Because he senses danger.  \n",
       "1                   He is captured by Quinn's group.  \n",
       "2  The soldiers and police pull out, leaving the ...  \n",
       "3                                       They had sex  \n",
       "4                                        He pays him  "
      ]
     },
     "execution_count": 5,
     "metadata": {},
     "output_type": "execute_result"
    }
   ],
   "source": [
    "qa_df = pd.DataFrame(qa_list[::20])\n",
    "qa_df.head(5)"
   ]
  },
  {
   "cell_type": "code",
   "execution_count": 6,
   "metadata": {},
   "outputs": [],
   "source": [
    "qa_df.to_csv('../data/movies_qa_sample.csv', index=False)"
   ]
  },
  {
   "cell_type": "code",
   "execution_count": null,
   "metadata": {},
   "outputs": [],
   "source": []
  }
 ],
 "metadata": {
  "kernelspec": {
   "display_name": "mlenv",
   "language": "python",
   "name": "python3"
  },
  "language_info": {
   "codemirror_mode": {
    "name": "ipython",
    "version": 3
   },
   "file_extension": ".py",
   "mimetype": "text/x-python",
   "name": "python",
   "nbconvert_exporter": "python",
   "pygments_lexer": "ipython3",
   "version": "3.12.2"
  }
 },
 "nbformat": 4,
 "nbformat_minor": 2
}
